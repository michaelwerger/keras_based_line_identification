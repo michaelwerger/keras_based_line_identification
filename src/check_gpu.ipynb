{
 "cells": [
  {
   "cell_type": "code",
   "execution_count": 1,
   "id": "2cac247e",
   "metadata": {},
   "outputs": [],
   "source": [
    "import sys\n",
    "import keras\n",
    "import pandas as pd\n",
    "import sklearn as sk\n",
    "import scipy as sp\n",
    "import tensorflow as tf\n",
    "import platform\n"
   ]
  },
  {
   "cell_type": "code",
   "execution_count": 2,
   "id": "f80c78df",
   "metadata": {},
   "outputs": [
    {
     "name": "stdout",
     "output_type": "stream",
     "text": [
      "Python Platform: macOS-15.5-arm64-arm-64bit\n",
      "Tensor Flow Version: 2.16.2\n",
      "Keras Version: 3.10.0\n",
      "\n",
      "Python 3.11.11 (main, Dec 11 2024, 10:25:04) [Clang 14.0.6 ]\n",
      "Pandas 2.3.0\n",
      "Scikit-Learn 1.7.0\n",
      "SciPy 1.15.3\n",
      "GPU is available\n"
     ]
    }
   ],
   "source": [
    "\n",
    "print (f\"Python Platform: {platform.platform ()}\")\n",
    "print (f\"Tensor Flow Version: {tf.__version__}\")\n",
    "print(f\"Keras Version: {keras.__version__}\")\n",
    "print ()\n",
    "\n",
    "print (f\"Python {sys.version}\")\n",
    "print (f\"Pandas {pd.__version__}\")\n",
    "print (f\"Scikit-Learn {sk.__version__}\")\n",
    "print (f\"SciPy {sp.__version__}\")\n",
    "gpu = len (tf.config.list_physical_devices ('GPU'))>0\n",
    "print (\"GPU is\", \"available\" if gpu else \"NOT AVAILABLE\")\n"
   ]
  }
 ],
 "metadata": {
  "kernelspec": {
   "display_name": "Python 3",
   "language": "python",
   "name": "python3"
  },
  "language_info": {
   "codemirror_mode": {
    "name": "ipython",
    "version": 3
   },
   "file_extension": ".py",
   "mimetype": "text/x-python",
   "name": "python",
   "nbconvert_exporter": "python",
   "pygments_lexer": "ipython3",
   "version": "3.11.11"
  }
 },
 "nbformat": 4,
 "nbformat_minor": 5
}
