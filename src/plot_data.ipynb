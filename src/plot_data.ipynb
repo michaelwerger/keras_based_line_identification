{
 "cells": [
  {
   "cell_type": "code",
   "execution_count": null,
   "metadata": {},
   "outputs": [],
   "source": [
    "import os\n",
    "import sys\n",
    "import matplotlib.pyplot as plt\n",
    "import numpy as np\n",
    "import math\n",
    "import re"
   ]
  },
  {
   "cell_type": "code",
   "execution_count": null,
   "metadata": {},
   "outputs": [],
   "source": [
    "NEON_REFERENCE_FILE = 'linetable-NeI-stronglines-NIST.txt'\n",
    "\n",
    "selector = 'Ne I'\n",
    "\n",
    "fig, axes = plt.subplots()\n",
    "\n",
    "with open(NEON_REFERENCE_FILE,'r') as neon_f:\n",
    "\n",
    "    for row in neon_f:\n",
    "        if len(row) > 45:\n",
    "            try:\n",
    "                intensity  = float(row[0:6].strip())\n",
    "                remark     = row[8:10].strip()\n",
    "                wavelength = float(row[14:24].strip())\n",
    "                species    = row[32:38].strip()\n",
    "                reference  = row[40:-2].strip() \n",
    "                if selector == species:\n",
    "                    plt.plot ([wavelength, wavelength],[0,intensity], color='k')\n",
    "            except ValueError:\n",
    "                pass\n",
    "                \n",
    "plt.xlim(4000,8000)\n",
    "plt.show()"
   ]
  },
  {
   "cell_type": "code",
   "execution_count": null,
   "metadata": {},
   "outputs": [],
   "source": [
    "NEON_REFERENCE_FILE = 'linetable-NeI-stronglines-NIST.txt'\n",
    "\n",
    "selector = 'Ne II'\n",
    "\n",
    "fig, axes = plt.subplots()\n",
    "\n",
    "with open(NEON_REFERENCE_FILE,'r') as neon_f:\n",
    "\n",
    "    for row in neon_f:\n",
    "        if len(row) > 45:\n",
    "            try:\n",
    "                intensity  = float(row[0:6].strip())\n",
    "                remark     = row[8:10].strip()\n",
    "                wavelength = float(row[14:24].strip())\n",
    "                species    = row[32:38].strip()\n",
    "                reference  = row[40:-2].strip() \n",
    "                if selector == species:\n",
    "                    plt.plot ([wavelength, wavelength],[0,intensity], color='k')\n",
    "            except ValueError:\n",
    "                pass\n",
    "                \n",
    "plt.xlim(4000,8000)\n",
    "plt.show()"
   ]
  },
  {
   "cell_type": "code",
   "execution_count": null,
   "metadata": {},
   "outputs": [],
   "source": [
    "neon_reference_file = os.path.join(NEON_REFERENCE_FILE)\n",
    "positions = {'wavelength':2, 'intensity':6, 'selector':1}\n",
    "selector = '1'\n",
    "intensity_limit = 1.0\n",
    "neon_wavelengths = []\n",
    "neon_intensities = []\n",
    "\n",
    "with open(neon_reference_file,'r') as neon_f:\n",
    "    for line in neon_f:\n",
    "        if line.startswith('#'):\n",
    "            pass\n",
    "        else:\n",
    "            tokens =  line.split(';')\n",
    "            #print (tokens)\n",
    "            try:\n",
    "                if selector in tokens[positions['selector']] :\n",
    "                    \n",
    "                    neon_wavelength, neon_intensity = float(tokens[positions['wavelength']]), float(tokens[positions['intensity']])\n",
    "                    \n",
    "                    if neon_intensity > intensity_limit :\n",
    "                        \n",
    "                        neon_wavelengths.append(neon_wavelength)\n",
    "                        neon_intensities.append(neon_intensity)\n",
    "                        \n",
    "                        print (\"{:8.3f} {:10.0f}\".format(neon_wavelength, neon_intensity, ))\n",
    "                    \n",
    "            except ValueError:\n",
    "                pass\n",
    "\n",
    "print (len(neon_wavelengths), len(neon_intensities))"
   ]
  }
 ],
 "metadata": {
  "kernelspec": {
   "display_name": ".venv",
   "language": "python",
   "name": "python3"
  },
  "language_info": {
   "codemirror_mode": {
    "name": "ipython",
    "version": 3
   },
   "file_extension": ".py",
   "mimetype": "text/x-python",
   "name": "python",
   "nbconvert_exporter": "python",
   "pygments_lexer": "ipython3",
   "version": "3.9.6"
  }
 },
 "nbformat": 4,
 "nbformat_minor": 2
}
