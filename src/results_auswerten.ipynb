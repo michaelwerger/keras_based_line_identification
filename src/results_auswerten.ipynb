{
 "cells": [
  {
   "cell_type": "code",
   "execution_count": null,
   "metadata": {},
   "outputs": [],
   "source": [
    "import os\n",
    "from pathlib import Path\n",
    "import re"
   ]
  },
  {
   "cell_type": "code",
   "execution_count": null,
   "metadata": {},
   "outputs": [],
   "source": [
    "#results_file = 'results.txt'\n",
    "results_file = 'results_windowsize_256.txt'\n",
    "results_file = 'results_CNN.txt'"
   ]
  },
  {
   "cell_type": "code",
   "execution_count": null,
   "metadata": {},
   "outputs": [],
   "source": [
    "#LINE_PATTERN = r'\\| (.*) \\| (\\d+) \\| (\\d+) \\| (.*) \\|'\n",
    "LINE_PATTERN = r'\\| (.*) \\|\\s+([0-9\\.]+)\\s+\\|\\s+([0-9\\.]+)\\s+\\|'"
   ]
  },
  {
   "cell_type": "code",
   "execution_count": null,
   "metadata": {},
   "outputs": [],
   "source": [
    "ist = []\n",
    "dekodiert = []\n",
    "richtig = []"
   ]
  },
  {
   "cell_type": "code",
   "execution_count": null,
   "metadata": {},
   "outputs": [],
   "source": [
    "with open(results_file,'r') as results_file:\n",
    "    for line in results_file:\n",
    "        m = re.match(LINE_PATTERN,line)\n",
    "        if m:\n",
    "            #print (line)\n",
    "            #print (line, m.group(1), m.group(2), m.group(3))\n",
    "            ist.append(m.group(2))\n",
    "            dekodiert.append((m.group(3)))\n",
    "            richtig.append(m.group(2) in m.group(3))\n",
    "            \n",
    "            \n",
    "                \n"
   ]
  },
  {
   "cell_type": "code",
   "execution_count": null,
   "metadata": {},
   "outputs": [],
   "source": [
    "lines = set(ist)\n",
    "goods_counter = 0\n",
    "wrongs_counter = 0\n",
    "for line in sorted(lines):\n",
    "    indices = [i for i, x in enumerate(ist) if x == line]\n",
    "    goods = [i for i in indices if richtig[i] == True]\n",
    "    goods_counter += len(goods)\n",
    "    wrongs = [i for i in indices if richtig[i] == False]\n",
    "    wrongs_counter += len(wrongs)\n",
    "    print (line, len(goods), len(wrongs), len(goods)+len(wrongs))\n",
    "\n",
    "print (len(ist), len(dekodiert), len(richtig), goods_counter+wrongs_counter)\n",
    "    "
   ]
  },
  {
   "cell_type": "code",
   "execution_count": null,
   "metadata": {},
   "outputs": [],
   "source": []
  }
 ],
 "metadata": {
  "kernelspec": {
   "display_name": ".venv",
   "language": "python",
   "name": "python3"
  },
  "language_info": {
   "codemirror_mode": {
    "name": "ipython",
    "version": 3
   },
   "file_extension": ".py",
   "mimetype": "text/x-python",
   "name": "python",
   "nbconvert_exporter": "python",
   "pygments_lexer": "ipython3",
   "version": "3.9.6"
  }
 },
 "nbformat": 4,
 "nbformat_minor": 2
}
